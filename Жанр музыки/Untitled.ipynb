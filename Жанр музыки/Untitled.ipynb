{
 "cells": [
  {
   "cell_type": "code",
   "execution_count": 1,
   "id": "88c815c1",
   "metadata": {},
   "outputs": [
    {
     "name": "stdout",
     "output_type": "stream",
     "text": [
      "Requirement already satisfied: colabcode in c:\\users\\bulig\\pycharmprojects\\pythonproject\\venv\\lib\\site-packages (0.3.0)\n",
      "Requirement already satisfied: pyngrok>=5.0.0 in c:\\users\\bulig\\pycharmprojects\\pythonproject\\venv\\lib\\site-packages (from colabcode) (5.1.0)\n",
      "Requirement already satisfied: jupyterlab==3.0.7 in c:\\users\\bulig\\pycharmprojects\\pythonproject\\venv\\lib\\site-packages (from colabcode) (3.0.7)\n",
      "Requirement already satisfied: nest-asyncio==1.4.3 in c:\\users\\bulig\\pycharmprojects\\pythonproject\\venv\\lib\\site-packages (from colabcode) (1.4.3)\n",
      "Requirement already satisfied: uvicorn==0.13.1 in c:\\users\\bulig\\pycharmprojects\\pythonproject\\venv\\lib\\site-packages (from colabcode) (0.13.1)\n",
      "Requirement already satisfied: jinja2>=2.10 in c:\\users\\bulig\\pycharmprojects\\pythonproject\\venv\\lib\\site-packages (from jupyterlab==3.0.7->colabcode) (3.0.3)\n",
      "Requirement already satisfied: nbclassic~=0.2 in c:\\users\\bulig\\pycharmprojects\\pythonproject\\venv\\lib\\site-packages (from jupyterlab==3.0.7->colabcode) (0.3.7)\n",
      "Requirement already satisfied: tornado>=6.1.0 in c:\\users\\bulig\\pycharmprojects\\pythonproject\\venv\\lib\\site-packages (from jupyterlab==3.0.7->colabcode) (6.1)\n",
      "Requirement already satisfied: jupyterlab-server~=2.0 in c:\\users\\bulig\\pycharmprojects\\pythonproject\\venv\\lib\\site-packages (from jupyterlab==3.0.7->colabcode) (2.13.0)\n",
      "Requirement already satisfied: jupyter-core in c:\\users\\bulig\\pycharmprojects\\pythonproject\\venv\\lib\\site-packages (from jupyterlab==3.0.7->colabcode) (4.9.2)\n",
      "Requirement already satisfied: jupyter-server~=1.2 in c:\\users\\bulig\\pycharmprojects\\pythonproject\\venv\\lib\\site-packages (from jupyterlab==3.0.7->colabcode) (1.17.0)\n",
      "Requirement already satisfied: packaging in c:\\users\\bulig\\pycharmprojects\\pythonproject\\venv\\lib\\site-packages (from jupyterlab==3.0.7->colabcode) (21.3)\n",
      "Requirement already satisfied: ipython in c:\\users\\bulig\\pycharmprojects\\pythonproject\\venv\\lib\\site-packages (from jupyterlab==3.0.7->colabcode) (8.2.0)\n",
      "Requirement already satisfied: click==7.* in c:\\users\\bulig\\pycharmprojects\\pythonproject\\venv\\lib\\site-packages (from uvicorn==0.13.1->colabcode) (7.1.2)\n",
      "Requirement already satisfied: h11>=0.8 in c:\\users\\bulig\\pycharmprojects\\pythonproject\\venv\\lib\\site-packages (from uvicorn==0.13.1->colabcode) (0.13.0)\n",
      "Requirement already satisfied: PyYAML in c:\\users\\bulig\\pycharmprojects\\pythonproject\\venv\\lib\\site-packages (from pyngrok>=5.0.0->colabcode) (6.0)\n",
      "Requirement already satisfied: MarkupSafe>=2.0 in c:\\users\\bulig\\pycharmprojects\\pythonproject\\venv\\lib\\site-packages (from jinja2>=2.10->jupyterlab==3.0.7->colabcode) (2.0.1)\n",
      "Requirement already satisfied: nbformat>=5.2.0 in c:\\users\\bulig\\pycharmprojects\\pythonproject\\venv\\lib\\site-packages (from jupyter-server~=1.2->jupyterlab==3.0.7->colabcode) (5.2.0)\n",
      "Requirement already satisfied: anyio<4,>=3.1.0 in c:\\users\\bulig\\pycharmprojects\\pythonproject\\venv\\lib\\site-packages (from jupyter-server~=1.2->jupyterlab==3.0.7->colabcode) (3.5.0)\n",
      "Requirement already satisfied: Send2Trash in c:\\users\\bulig\\pycharmprojects\\pythonproject\\venv\\lib\\site-packages (from jupyter-server~=1.2->jupyterlab==3.0.7->colabcode) (1.8.0)\n",
      "Requirement already satisfied: traitlets>=5.1 in c:\\users\\bulig\\pycharmprojects\\pythonproject\\venv\\lib\\site-packages (from jupyter-server~=1.2->jupyterlab==3.0.7->colabcode) (5.1.1)\n",
      "Requirement already satisfied: terminado>=0.8.3 in c:\\users\\bulig\\pycharmprojects\\pythonproject\\venv\\lib\\site-packages (from jupyter-server~=1.2->jupyterlab==3.0.7->colabcode) (0.13.3)\n",
      "Requirement already satisfied: pywinpty in c:\\users\\bulig\\pycharmprojects\\pythonproject\\venv\\lib\\site-packages (from jupyter-server~=1.2->jupyterlab==3.0.7->colabcode) (2.0.5)\n",
      "Requirement already satisfied: websocket-client in c:\\users\\bulig\\pycharmprojects\\pythonproject\\venv\\lib\\site-packages (from jupyter-server~=1.2->jupyterlab==3.0.7->colabcode) (1.3.2)\n",
      "Requirement already satisfied: prometheus-client in c:\\users\\bulig\\pycharmprojects\\pythonproject\\venv\\lib\\site-packages (from jupyter-server~=1.2->jupyterlab==3.0.7->colabcode) (0.13.1)\n",
      "Requirement already satisfied: argon2-cffi in c:\\users\\bulig\\pycharmprojects\\pythonproject\\venv\\lib\\site-packages (from jupyter-server~=1.2->jupyterlab==3.0.7->colabcode) (21.3.0)\n",
      "Requirement already satisfied: pyzmq>=17 in c:\\users\\bulig\\pycharmprojects\\pythonproject\\venv\\lib\\site-packages (from jupyter-server~=1.2->jupyterlab==3.0.7->colabcode) (22.3.0)\n",
      "Requirement already satisfied: nbconvert>=6.4.4 in c:\\users\\bulig\\pycharmprojects\\pythonproject\\venv\\lib\\site-packages (from jupyter-server~=1.2->jupyterlab==3.0.7->colabcode) (6.4.5)\n",
      "Requirement already satisfied: jupyter-client>=6.1.12 in c:\\users\\bulig\\pycharmprojects\\pythonproject\\venv\\lib\\site-packages (from jupyter-server~=1.2->jupyterlab==3.0.7->colabcode) (6.1.12)\n",
      "Requirement already satisfied: pywin32>=1.0 in c:\\users\\bulig\\pycharmprojects\\pythonproject\\venv\\lib\\site-packages (from jupyter-core->jupyterlab==3.0.7->colabcode) (227)\n",
      "Requirement already satisfied: jsonschema>=3.0.1 in c:\\users\\bulig\\pycharmprojects\\pythonproject\\venv\\lib\\site-packages (from jupyterlab-server~=2.0->jupyterlab==3.0.7->colabcode) (4.4.0)\n",
      "Requirement already satisfied: requests in c:\\users\\bulig\\pycharmprojects\\pythonproject\\venv\\lib\\site-packages (from jupyterlab-server~=2.0->jupyterlab==3.0.7->colabcode) (2.27.1)\n",
      "Requirement already satisfied: importlib-metadata>=3.6 in c:\\users\\bulig\\pycharmprojects\\pythonproject\\venv\\lib\\site-packages (from jupyterlab-server~=2.0->jupyterlab==3.0.7->colabcode) (4.10.0)\n",
      "Requirement already satisfied: babel in c:\\users\\bulig\\pycharmprojects\\pythonproject\\venv\\lib\\site-packages (from jupyterlab-server~=2.0->jupyterlab==3.0.7->colabcode) (2.10.1)\n",
      "Requirement already satisfied: json5 in c:\\users\\bulig\\pycharmprojects\\pythonproject\\venv\\lib\\site-packages (from jupyterlab-server~=2.0->jupyterlab==3.0.7->colabcode) (0.9.6)\n",
      "Requirement already satisfied: notebook-shim>=0.1.0 in c:\\users\\bulig\\pycharmprojects\\pythonproject\\venv\\lib\\site-packages (from nbclassic~=0.2->jupyterlab==3.0.7->colabcode) (0.1.0)\n",
      "Requirement already satisfied: notebook<7 in c:\\users\\bulig\\pycharmprojects\\pythonproject\\venv\\lib\\site-packages (from nbclassic~=0.2->jupyterlab==3.0.7->colabcode) (6.4.5)\n",
      "Requirement already satisfied: matplotlib-inline in c:\\users\\bulig\\pycharmprojects\\pythonproject\\venv\\lib\\site-packages (from ipython->jupyterlab==3.0.7->colabcode) (0.1.3)\n",
      "Requirement already satisfied: jedi>=0.16 in c:\\users\\bulig\\pycharmprojects\\pythonproject\\venv\\lib\\site-packages (from ipython->jupyterlab==3.0.7->colabcode) (0.18.1)\n",
      "Requirement already satisfied: prompt-toolkit!=3.0.0,!=3.0.1,<3.1.0,>=2.0.0 in c:\\users\\bulig\\pycharmprojects\\pythonproject\\venv\\lib\\site-packages (from ipython->jupyterlab==3.0.7->colabcode) (3.0.24)\n",
      "Requirement already satisfied: decorator in c:\\users\\bulig\\pycharmprojects\\pythonproject\\venv\\lib\\site-packages (from ipython->jupyterlab==3.0.7->colabcode) (4.4.2)\n",
      "Requirement already satisfied: setuptools>=18.5 in c:\\users\\bulig\\pycharmprojects\\pythonproject\\venv\\lib\\site-packages (from ipython->jupyterlab==3.0.7->colabcode) (57.0.0)\n",
      "Requirement already satisfied: stack-data in c:\\users\\bulig\\pycharmprojects\\pythonproject\\venv\\lib\\site-packages (from ipython->jupyterlab==3.0.7->colabcode) (0.1.3)\n",
      "Requirement already satisfied: pickleshare in c:\\users\\bulig\\pycharmprojects\\pythonproject\\venv\\lib\\site-packages (from ipython->jupyterlab==3.0.7->colabcode) (0.7.5)\n",
      "Requirement already satisfied: colorama in c:\\users\\bulig\\pycharmprojects\\pythonproject\\venv\\lib\\site-packages (from ipython->jupyterlab==3.0.7->colabcode) (0.4.4)\n",
      "Requirement already satisfied: pygments>=2.4.0 in c:\\users\\bulig\\pycharmprojects\\pythonproject\\venv\\lib\\site-packages (from ipython->jupyterlab==3.0.7->colabcode) (2.12.0)\n",
      "Requirement already satisfied: backcall in c:\\users\\bulig\\pycharmprojects\\pythonproject\\venv\\lib\\site-packages (from ipython->jupyterlab==3.0.7->colabcode) (0.2.0)\n",
      "Requirement already satisfied: pyparsing!=3.0.5,>=2.0.2 in c:\\users\\bulig\\pycharmprojects\\pythonproject\\venv\\lib\\site-packages (from packaging->jupyterlab==3.0.7->colabcode) (3.0.6)\n",
      "Requirement already satisfied: sniffio>=1.1 in c:\\users\\bulig\\pycharmprojects\\pythonproject\\venv\\lib\\site-packages (from anyio<4,>=3.1.0->jupyter-server~=1.2->jupyterlab==3.0.7->colabcode) (1.2.0)\n",
      "Requirement already satisfied: idna>=2.8 in c:\\users\\bulig\\pycharmprojects\\pythonproject\\venv\\lib\\site-packages (from anyio<4,>=3.1.0->jupyter-server~=1.2->jupyterlab==3.0.7->colabcode) (3.3)\n",
      "Requirement already satisfied: zipp>=0.5 in c:\\users\\bulig\\pycharmprojects\\pythonproject\\venv\\lib\\site-packages (from importlib-metadata>=3.6->jupyterlab-server~=2.0->jupyterlab==3.0.7->colabcode) (3.7.0)\n",
      "Requirement already satisfied: parso<0.9.0,>=0.8.0 in c:\\users\\bulig\\pycharmprojects\\pythonproject\\venv\\lib\\site-packages (from jedi>=0.16->ipython->jupyterlab==3.0.7->colabcode) (0.8.3)\n",
      "Requirement already satisfied: attrs>=17.4.0 in c:\\users\\bulig\\pycharmprojects\\pythonproject\\venv\\lib\\site-packages (from jsonschema>=3.0.1->jupyterlab-server~=2.0->jupyterlab==3.0.7->colabcode) (21.4.0)\n",
      "Requirement already satisfied: pyrsistent!=0.17.0,!=0.17.1,!=0.17.2,>=0.14.0 in c:\\users\\bulig\\pycharmprojects\\pythonproject\\venv\\lib\\site-packages (from jsonschema>=3.0.1->jupyterlab-server~=2.0->jupyterlab==3.0.7->colabcode) (0.18.1)\n",
      "Requirement already satisfied: python-dateutil>=2.1 in c:\\users\\bulig\\pycharmprojects\\pythonproject\\venv\\lib\\site-packages (from jupyter-client>=6.1.12->jupyter-server~=1.2->jupyterlab==3.0.7->colabcode) (2.8.2)\n",
      "Requirement already satisfied: pandocfilters>=1.4.1 in c:\\users\\bulig\\pycharmprojects\\pythonproject\\venv\\lib\\site-packages (from nbconvert>=6.4.4->jupyter-server~=1.2->jupyterlab==3.0.7->colabcode) (1.5.0)\n",
      "Requirement already satisfied: testpath in c:\\users\\bulig\\pycharmprojects\\pythonproject\\venv\\lib\\site-packages (from nbconvert>=6.4.4->jupyter-server~=1.2->jupyterlab==3.0.7->colabcode) (0.6.0)\n",
      "Requirement already satisfied: bleach in c:\\users\\bulig\\pycharmprojects\\pythonproject\\venv\\lib\\site-packages (from nbconvert>=6.4.4->jupyter-server~=1.2->jupyterlab==3.0.7->colabcode) (4.1.0)\n",
      "Requirement already satisfied: nbclient<0.6.0,>=0.5.0 in c:\\users\\bulig\\pycharmprojects\\pythonproject\\venv\\lib\\site-packages (from nbconvert>=6.4.4->jupyter-server~=1.2->jupyterlab==3.0.7->colabcode) (0.5.13)\n",
      "Requirement already satisfied: beautifulsoup4 in c:\\users\\bulig\\pycharmprojects\\pythonproject\\venv\\lib\\site-packages (from nbconvert>=6.4.4->jupyter-server~=1.2->jupyterlab==3.0.7->colabcode) (4.10.0)\n",
      "Requirement already satisfied: mistune<2,>=0.8.1 in c:\\users\\bulig\\pycharmprojects\\pythonproject\\venv\\lib\\site-packages (from nbconvert>=6.4.4->jupyter-server~=1.2->jupyterlab==3.0.7->colabcode) (0.8.4)\n",
      "Requirement already satisfied: defusedxml in c:\\users\\bulig\\pycharmprojects\\pythonproject\\venv\\lib\\site-packages (from nbconvert>=6.4.4->jupyter-server~=1.2->jupyterlab==3.0.7->colabcode) (0.7.1)\n",
      "Requirement already satisfied: jupyterlab-pygments in c:\\users\\bulig\\pycharmprojects\\pythonproject\\venv\\lib\\site-packages (from nbconvert>=6.4.4->jupyter-server~=1.2->jupyterlab==3.0.7->colabcode) (0.1.2)\n",
      "Requirement already satisfied: entrypoints>=0.2.2 in c:\\users\\bulig\\pycharmprojects\\pythonproject\\venv\\lib\\site-packages (from nbconvert>=6.4.4->jupyter-server~=1.2->jupyterlab==3.0.7->colabcode) (0.4)\n",
      "Requirement already satisfied: ipython-genutils in c:\\users\\bulig\\pycharmprojects\\pythonproject\\venv\\lib\\site-packages (from notebook<7->nbclassic~=0.2->jupyterlab==3.0.7->colabcode) (0.2.0)\n",
      "Requirement already satisfied: ipykernel in c:\\users\\bulig\\pycharmprojects\\pythonproject\\venv\\lib\\site-packages (from notebook<7->nbclassic~=0.2->jupyterlab==3.0.7->colabcode) (6.10.0)\n",
      "Requirement already satisfied: wcwidth in c:\\users\\bulig\\pycharmprojects\\pythonproject\\venv\\lib\\site-packages (from prompt-toolkit!=3.0.0,!=3.0.1,<3.1.0,>=2.0.0->ipython->jupyterlab==3.0.7->colabcode) (0.2.5)\n",
      "Requirement already satisfied: argon2-cffi-bindings in c:\\users\\bulig\\pycharmprojects\\pythonproject\\venv\\lib\\site-packages (from argon2-cffi->jupyter-server~=1.2->jupyterlab==3.0.7->colabcode) (21.2.0)\n",
      "Requirement already satisfied: pytz>=2015.7 in c:\\users\\bulig\\pycharmprojects\\pythonproject\\venv\\lib\\site-packages (from babel->jupyterlab-server~=2.0->jupyterlab==3.0.7->colabcode) (2021.3)\n",
      "Requirement already satisfied: charset-normalizer~=2.0.0 in c:\\users\\bulig\\pycharmprojects\\pythonproject\\venv\\lib\\site-packages (from requests->jupyterlab-server~=2.0->jupyterlab==3.0.7->colabcode) (2.0.10)\n",
      "Requirement already satisfied: urllib3<1.27,>=1.21.1 in c:\\users\\bulig\\pycharmprojects\\pythonproject\\venv\\lib\\site-packages (from requests->jupyterlab-server~=2.0->jupyterlab==3.0.7->colabcode) (1.26.8)\n",
      "Requirement already satisfied: certifi>=2017.4.17 in c:\\users\\bulig\\pycharmprojects\\pythonproject\\venv\\lib\\site-packages (from requests->jupyterlab-server~=2.0->jupyterlab==3.0.7->colabcode) (2021.10.8)\n",
      "Requirement already satisfied: pure-eval in c:\\users\\bulig\\pycharmprojects\\pythonproject\\venv\\lib\\site-packages (from stack-data->ipython->jupyterlab==3.0.7->colabcode) (0.2.1)\n",
      "Requirement already satisfied: executing in c:\\users\\bulig\\pycharmprojects\\pythonproject\\venv\\lib\\site-packages (from stack-data->ipython->jupyterlab==3.0.7->colabcode) (0.8.2)\n",
      "Requirement already satisfied: asttokens in c:\\users\\bulig\\pycharmprojects\\pythonproject\\venv\\lib\\site-packages (from stack-data->ipython->jupyterlab==3.0.7->colabcode) (2.0.5)\n",
      "Requirement already satisfied: six>=1.5 in c:\\users\\bulig\\pycharmprojects\\pythonproject\\venv\\lib\\site-packages (from python-dateutil>=2.1->jupyter-client>=6.1.12->jupyter-server~=1.2->jupyterlab==3.0.7->colabcode) (1.16.0)\n",
      "Requirement already satisfied: cffi>=1.0.1 in c:\\users\\bulig\\pycharmprojects\\pythonproject\\venv\\lib\\site-packages (from argon2-cffi-bindings->argon2-cffi->jupyter-server~=1.2->jupyterlab==3.0.7->colabcode) (1.15.0)\n",
      "Requirement already satisfied: soupsieve>1.2 in c:\\users\\bulig\\pycharmprojects\\pythonproject\\venv\\lib\\site-packages (from beautifulsoup4->nbconvert>=6.4.4->jupyter-server~=1.2->jupyterlab==3.0.7->colabcode) (2.3.1)\n",
      "Requirement already satisfied: webencodings in c:\\users\\bulig\\pycharmprojects\\pythonproject\\venv\\lib\\site-packages (from bleach->nbconvert>=6.4.4->jupyter-server~=1.2->jupyterlab==3.0.7->colabcode) (0.5.1)\n",
      "Requirement already satisfied: debugpy<2.0,>=1.0.0 in c:\\users\\bulig\\pycharmprojects\\pythonproject\\venv\\lib\\site-packages (from ipykernel->notebook<7->nbclassic~=0.2->jupyterlab==3.0.7->colabcode) (1.6.0)\n",
      "Requirement already satisfied: psutil in c:\\users\\bulig\\pycharmprojects\\pythonproject\\venv\\lib\\site-packages (from ipykernel->notebook<7->nbclassic~=0.2->jupyterlab==3.0.7->colabcode) (5.9.0)\n",
      "Requirement already satisfied: pycparser in c:\\users\\bulig\\pycharmprojects\\pythonproject\\venv\\lib\\site-packages (from cffi>=1.0.1->argon2-cffi-bindings->argon2-cffi->jupyter-server~=1.2->jupyterlab==3.0.7->colabcode) (2.21)\n"
     ]
    }
   ],
   "source": [
    "!pip install colabcode"
   ]
  },
  {
   "cell_type": "code",
   "execution_count": 2,
   "id": "5e94c6aa",
   "metadata": {},
   "outputs": [
    {
     "name": "stdout",
     "output_type": "stream",
     "text": [
      "Requirement already satisfied: fastapi in c:\\users\\bulig\\pycharmprojects\\pythonproject\\venv\\lib\\site-packages (0.75.2)\n",
      "Requirement already satisfied: pydantic!=1.7,!=1.7.1,!=1.7.2,!=1.7.3,!=1.8,!=1.8.1,<2.0.0,>=1.6.2 in c:\\users\\bulig\\pycharmprojects\\pythonproject\\venv\\lib\\site-packages (from fastapi) (1.8.2)\n",
      "Requirement already satisfied: starlette==0.17.1 in c:\\users\\bulig\\pycharmprojects\\pythonproject\\venv\\lib\\site-packages (from fastapi) (0.17.1)\n",
      "Requirement already satisfied: anyio<4,>=3.0.0 in c:\\users\\bulig\\pycharmprojects\\pythonproject\\venv\\lib\\site-packages (from starlette==0.17.1->fastapi) (3.5.0)\n",
      "Requirement already satisfied: typing-extensions>=3.7.4.3 in c:\\users\\bulig\\pycharmprojects\\pythonproject\\venv\\lib\\site-packages (from pydantic!=1.7,!=1.7.1,!=1.7.2,!=1.7.3,!=1.8,!=1.8.1,<2.0.0,>=1.6.2->fastapi) (4.0.1)\n",
      "Requirement already satisfied: idna>=2.8 in c:\\users\\bulig\\pycharmprojects\\pythonproject\\venv\\lib\\site-packages (from anyio<4,>=3.0.0->starlette==0.17.1->fastapi) (3.3)\n",
      "Requirement already satisfied: sniffio>=1.1 in c:\\users\\bulig\\pycharmprojects\\pythonproject\\venv\\lib\\site-packages (from anyio<4,>=3.0.0->starlette==0.17.1->fastapi) (1.2.0)\n"
     ]
    }
   ],
   "source": [
    "!pip install fastapi"
   ]
  },
  {
   "cell_type": "code",
   "execution_count": 3,
   "id": "c86e255b",
   "metadata": {},
   "outputs": [],
   "source": [
    "from sklearn.tree import DecisionTreeClassifier\n",
    "from sklearn.model_selection import train_test_split\n",
    "import pandas as pd\n",
    "import pickle"
   ]
  },
  {
   "cell_type": "code",
   "execution_count": 4,
   "id": "a9bdfc80",
   "metadata": {},
   "outputs": [],
   "source": [
    "df = pd.read_csv(\"https://raw.githubusercontent.com/kaustubhgupta/Technocolab-Final-Project/master/Data/cleaned.csv\",  index_col=None)"
   ]
  },
  {
   "cell_type": "code",
   "execution_count": 5,
   "id": "9a683be6",
   "metadata": {},
   "outputs": [
    {
     "data": {
      "text/html": [
       "<div>\n",
       "<style scoped>\n",
       "    .dataframe tbody tr th:only-of-type {\n",
       "        vertical-align: middle;\n",
       "    }\n",
       "\n",
       "    .dataframe tbody tr th {\n",
       "        vertical-align: top;\n",
       "    }\n",
       "\n",
       "    .dataframe thead th {\n",
       "        text-align: right;\n",
       "    }\n",
       "</style>\n",
       "<table border=\"1\" class=\"dataframe\">\n",
       "  <thead>\n",
       "    <tr style=\"text-align: right;\">\n",
       "      <th></th>\n",
       "      <th>track_id</th>\n",
       "      <th>genre_top</th>\n",
       "      <th>acousticness</th>\n",
       "      <th>danceability</th>\n",
       "      <th>energy</th>\n",
       "      <th>instrumentalness</th>\n",
       "      <th>liveness</th>\n",
       "      <th>speechiness</th>\n",
       "      <th>tempo</th>\n",
       "      <th>valence</th>\n",
       "    </tr>\n",
       "  </thead>\n",
       "  <tbody>\n",
       "    <tr>\n",
       "      <th>0</th>\n",
       "      <td>153</td>\n",
       "      <td>Rock</td>\n",
       "      <td>0.988306</td>\n",
       "      <td>0.255661</td>\n",
       "      <td>0.979774</td>\n",
       "      <td>0.973006</td>\n",
       "      <td>0.121342</td>\n",
       "      <td>0.051740</td>\n",
       "      <td>90.241</td>\n",
       "      <td>0.034018</td>\n",
       "    </tr>\n",
       "    <tr>\n",
       "      <th>1</th>\n",
       "      <td>154</td>\n",
       "      <td>Rock</td>\n",
       "      <td>0.970135</td>\n",
       "      <td>0.352946</td>\n",
       "      <td>0.023852</td>\n",
       "      <td>0.957113</td>\n",
       "      <td>0.113261</td>\n",
       "      <td>0.032177</td>\n",
       "      <td>53.758</td>\n",
       "      <td>0.035632</td>\n",
       "    </tr>\n",
       "    <tr>\n",
       "      <th>2</th>\n",
       "      <td>155</td>\n",
       "      <td>Rock</td>\n",
       "      <td>0.981657</td>\n",
       "      <td>0.142249</td>\n",
       "      <td>0.912122</td>\n",
       "      <td>0.967294</td>\n",
       "      <td>0.363510</td>\n",
       "      <td>0.087527</td>\n",
       "      <td>91.912</td>\n",
       "      <td>0.034325</td>\n",
       "    </tr>\n",
       "    <tr>\n",
       "      <th>3</th>\n",
       "      <td>169</td>\n",
       "      <td>Rock</td>\n",
       "      <td>0.989141</td>\n",
       "      <td>0.225978</td>\n",
       "      <td>0.722835</td>\n",
       "      <td>0.263076</td>\n",
       "      <td>0.092371</td>\n",
       "      <td>0.053406</td>\n",
       "      <td>94.322</td>\n",
       "      <td>0.028347</td>\n",
       "    </tr>\n",
       "    <tr>\n",
       "      <th>4</th>\n",
       "      <td>170</td>\n",
       "      <td>Rock</td>\n",
       "      <td>0.886660</td>\n",
       "      <td>0.298518</td>\n",
       "      <td>0.744333</td>\n",
       "      <td>0.920950</td>\n",
       "      <td>0.139587</td>\n",
       "      <td>0.088781</td>\n",
       "      <td>97.880</td>\n",
       "      <td>0.073548</td>\n",
       "    </tr>\n",
       "  </tbody>\n",
       "</table>\n",
       "</div>"
      ],
      "text/plain": [
       "   track_id genre_top  acousticness  danceability    energy  instrumentalness  \\\n",
       "0       153      Rock      0.988306      0.255661  0.979774          0.973006   \n",
       "1       154      Rock      0.970135      0.352946  0.023852          0.957113   \n",
       "2       155      Rock      0.981657      0.142249  0.912122          0.967294   \n",
       "3       169      Rock      0.989141      0.225978  0.722835          0.263076   \n",
       "4       170      Rock      0.886660      0.298518  0.744333          0.920950   \n",
       "\n",
       "   liveness  speechiness   tempo   valence  \n",
       "0  0.121342     0.051740  90.241  0.034018  \n",
       "1  0.113261     0.032177  53.758  0.035632  \n",
       "2  0.363510     0.087527  91.912  0.034325  \n",
       "3  0.092371     0.053406  94.322  0.028347  \n",
       "4  0.139587     0.088781  97.880  0.073548  "
      ]
     },
     "execution_count": 5,
     "metadata": {},
     "output_type": "execute_result"
    }
   ],
   "source": [
    "df.head()"
   ]
  },
  {
   "cell_type": "code",
   "execution_count": 6,
   "id": "3384f916",
   "metadata": {},
   "outputs": [],
   "source": [
    "X = df.drop(['track_id', 'genre_top'], axis=1)\n",
    "y = df.genre_top"
   ]
  },
  {
   "cell_type": "code",
   "execution_count": 7,
   "id": "e995d9c1",
   "metadata": {},
   "outputs": [],
   "source": [
    "X_train, X_test, y_train, y_test = train_test_split(X,y,stratify=y)\n",
    "\n",
    "tree = DecisionTreeClassifier(random_state=42)\n",
    "\n",
    "tree.fit(X_train, y_train)\n",
    "\n",
    "Pkl_Filename = \"model_tree.pkl\"  \n",
    "\n",
    "with open(Pkl_Filename, 'wb') as file:  \n",
    "    pickle.dump(tree, file)"
   ]
  },
  {
   "cell_type": "code",
   "execution_count": 8,
   "id": "a08c4ec8",
   "metadata": {},
   "outputs": [],
   "source": [
    "from pydantic import BaseModel\n",
    "\n",
    "class Music(BaseModel):\n",
    "    acousticness: float \n",
    "    danceability: float \n",
    "    energy: float \n",
    "    instrumentalness: float \n",
    "    liveness: float \n",
    "    speechiness: float \n",
    "    tempo: float \n",
    "    valence: float\n",
    "    class Config:\n",
    "        schema_extra = {\n",
    "            \"example\": {\n",
    "                \"acousticness\": 0.838816, \n",
    "                \"danceability\": 0.542950, \n",
    "                \"energy\": 0.669215,\n",
    "                \"instrumentalness\": 0.000006,\n",
    "                \"liveness\": 0.105610,\n",
    "                \"speechiness\": 0.391221,\n",
    "                \"tempo\": 111.894,\n",
    "                \"valence\": 0.796073\n",
    "            }\n",
    "        }"
   ]
  },
  {
   "cell_type": "code",
   "execution_count": 9,
   "id": "fa310f70",
   "metadata": {},
   "outputs": [],
   "source": [
    "from fastapi import FastAPI\n",
    "import pickle\n",
    "\n",
    "app = FastAPI()\n",
    "\n",
    "@app.on_event(\"startup\")\n",
    "def load_model():\n",
    "    global model\n",
    "    model = pickle.load(open(\"model_tree.pkl\", \"rb\"))\n",
    "\n",
    "@app.get('/')\n",
    "def index():\n",
    "    return {'message': 'This is the homepage of the API '}\n",
    "\n",
    "\n",
    "@app.post('/predict')\n",
    "def get_music_category(data: Music):\n",
    "    received = data.dict()\n",
    "    acousticness = received['acousticness']\n",
    "    danceability = received['danceability']\n",
    "    energy = received['energy']\n",
    "    instrumentalness = received['instrumentalness']\n",
    "    liveness = received['liveness']\n",
    "    speechiness = received['speechiness']\n",
    "    tempo = received['tempo']\n",
    "    valence = received['valence']\n",
    "    pred_name = model.predict([[acousticness, danceability, energy,\n",
    "                                instrumentalness, liveness, speechiness, tempo, valence]]).tolist()[0]\n",
    "    return {'prediction': pred_name}"
   ]
  },
  {
   "cell_type": "code",
   "execution_count": 10,
   "id": "6b65ae08",
   "metadata": {},
   "outputs": [],
   "source": [
    "from colabcode import ColabCode\n",
    "server = ColabCode(port=10000, code=False)"
   ]
  },
  {
   "cell_type": "code",
   "execution_count": null,
   "id": "39f405c5",
   "metadata": {},
   "outputs": [
    {
     "name": "stderr",
     "output_type": "stream",
     "text": [
      "INFO:     Started server process [4836]\n",
      "INFO:     Waiting for application startup.\n",
      "INFO:     Application startup complete.\n",
      "INFO:     Uvicorn running on http://127.0.0.1:10000 (Press CTRL+C to quit)\n"
     ]
    },
    {
     "name": "stdout",
     "output_type": "stream",
     "text": [
      "Public URL: NgrokTunnel: \"https://e32b-85-143-112-90.ngrok.io\" -> \"http://localhost:10000\"\n",
      "INFO:     127.0.0.1:51358 - \"GET / HTTP/1.1\" 200 OK\n",
      "INFO:     127.0.0.1:51358 - \"GET /docs HTTP/1.1\" 200 OK\n",
      "INFO:     127.0.0.1:51358 - \"GET /openapi.json HTTP/1.1\" 200 OK\n",
      "INFO:     127.0.0.1:51362 - \"POST /predict HTTP/1.1\" 200 OK\n"
     ]
    },
    {
     "name": "stderr",
     "output_type": "stream",
     "text": [
      "c:\\users\\bulig\\pycharmprojects\\pythonproject\\venv\\lib\\site-packages\\sklearn\\base.py:450: UserWarning: X does not have valid feature names, but DecisionTreeClassifier was fitted with feature names\n",
      "  warnings.warn(\n"
     ]
    }
   ],
   "source": [
    "server.run_app(app=app)"
   ]
  },
  {
   "cell_type": "code",
   "execution_count": null,
   "id": "05552282",
   "metadata": {},
   "outputs": [],
   "source": []
  },
  {
   "cell_type": "code",
   "execution_count": null,
   "id": "c8b5afb6",
   "metadata": {},
   "outputs": [],
   "source": []
  }
 ],
 "metadata": {
  "kernelspec": {
   "display_name": "Python 3 (ipykernel)",
   "language": "python",
   "name": "python3"
  },
  "language_info": {
   "codemirror_mode": {
    "name": "ipython",
    "version": 3
   },
   "file_extension": ".py",
   "mimetype": "text/x-python",
   "name": "python",
   "nbconvert_exporter": "python",
   "pygments_lexer": "ipython3",
   "version": "3.9.5"
  }
 },
 "nbformat": 4,
 "nbformat_minor": 5
}
