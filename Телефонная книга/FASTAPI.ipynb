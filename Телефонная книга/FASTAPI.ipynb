{
 "cells": [
  {
   "cell_type": "code",
   "execution_count": 1,
   "id": "478702ef",
   "metadata": {},
   "outputs": [],
   "source": [
    "import requests\n",
    "from datetime import datetime,timedelta\n",
    "import json\n",
    "from IPython.display import Image\n",
    "import os\n",
    "\n"
   ]
  },
  {
   "cell_type": "code",
   "execution_count": 2,
   "id": "fdf168f5",
   "metadata": {},
   "outputs": [],
   "source": [
    "SERVER_URL = 'http://127.0.0.1:8000/'"
   ]
  },
  {
   "cell_type": "markdown",
   "id": "668be6d5",
   "metadata": {},
   "source": [
    "POST"
   ]
  },
  {
   "cell_type": "code",
   "execution_count": 3,
   "id": "a1f98f0d",
   "metadata": {},
   "outputs": [],
   "source": [
    "page_url = 'add-user/'\n",
    "data_request={\n",
    "    'first_name': 'Donald',\n",
    "    'last_name': 'T',\n",
    "    'phone_number': '89834512999', \n",
    "}"
   ]
  },
  {
   "cell_type": "code",
   "execution_count": 4,
   "id": "54f0128c",
   "metadata": {},
   "outputs": [
    {
     "data": {
      "text/plain": [
       "200"
      ]
     },
     "execution_count": 4,
     "metadata": {},
     "output_type": "execute_result"
    }
   ],
   "source": [
    "response = requests.post(\n",
    "    os.path.join(SERVER_URL,page_url),\n",
    "    data = json.dumps(data_request)\n",
    ")\n",
    "response.status_code"
   ]
  },
  {
   "cell_type": "code",
   "execution_count": 5,
   "id": "16608495",
   "metadata": {},
   "outputs": [
    {
     "data": {
      "text/plain": [
       "'user is added'"
      ]
     },
     "execution_count": 5,
     "metadata": {},
     "output_type": "execute_result"
    }
   ],
   "source": [
    "json.loads(response.text)"
   ]
  },
  {
   "cell_type": "markdown",
   "id": "c6f055ff",
   "metadata": {},
   "source": [
    "GET"
   ]
  },
  {
   "cell_type": "code",
   "execution_count": 6,
   "id": "ee0c379b",
   "metadata": {},
   "outputs": [],
   "source": [
    "page_url = 'get-user/'"
   ]
  },
  {
   "cell_type": "code",
   "execution_count": 7,
   "id": "f56a7b1c",
   "metadata": {},
   "outputs": [],
   "source": [
    "params = {\n",
    "    'last_name':'T'\n",
    "}"
   ]
  },
  {
   "cell_type": "code",
   "execution_count": 8,
   "id": "350f1042",
   "metadata": {},
   "outputs": [
    {
     "data": {
      "text/plain": [
       "200"
      ]
     },
     "execution_count": 8,
     "metadata": {},
     "output_type": "execute_result"
    }
   ],
   "source": [
    "response = requests.get(\n",
    "    os.path.join(SERVER_URL,page_url),\n",
    "    params=params\n",
    ")\n",
    "response.status_code"
   ]
  },
  {
   "cell_type": "code",
   "execution_count": 9,
   "id": "828daf26",
   "metadata": {},
   "outputs": [
    {
     "data": {
      "text/plain": [
       "'{\"Phone number\": \"89834512999\"}'"
      ]
     },
     "execution_count": 9,
     "metadata": {},
     "output_type": "execute_result"
    }
   ],
   "source": [
    "json.loads(response.text)"
   ]
  },
  {
   "cell_type": "code",
   "execution_count": 16,
   "id": "f4abb0f1",
   "metadata": {},
   "outputs": [],
   "source": [
    "import psycopg2"
   ]
  },
  {
   "cell_type": "code",
   "execution_count": 17,
   "id": "16ade2ca",
   "metadata": {},
   "outputs": [],
   "source": [
    "HOST_DB = '0.0.0.0'\n",
    "PORT = 5432\n",
    "POSTGRES_USER = 'unicorn_user'\n",
    "POSTGRES_PASSWORD = 'magical_password'\n",
    "POSTGRES_DB = 'rainbow_database'"
   ]
  },
  {
   "cell_type": "code",
   "execution_count": 19,
   "id": "51b221ad",
   "metadata": {},
   "outputs": [
    {
     "ename": "OperationalError",
     "evalue": "connection to server at \"0.0.0.0\", port 5432 failed: Cannot assign requested address (0x00002741/10049)\n\tIs the server running on that host and accepting TCP/IP connections?\n",
     "output_type": "error",
     "traceback": [
      "\u001b[1;31m---------------------------------------------------------------------------\u001b[0m",
      "\u001b[1;31mOperationalError\u001b[0m                          Traceback (most recent call last)",
      "Input \u001b[1;32mIn [19]\u001b[0m, in \u001b[0;36m<cell line: 1>\u001b[1;34m()\u001b[0m\n\u001b[1;32m----> 1\u001b[0m conn \u001b[38;5;241m=\u001b[39m psycopg2\u001b[38;5;241m.\u001b[39mconnect(host\u001b[38;5;241m=\u001b[39mHOST_DB,port\u001b[38;5;241m=\u001b[39m\u001b[38;5;241m5432\u001b[39m,database\u001b[38;5;241m=\u001b[39mPOSTGRES_DB,user\u001b[38;5;241m=\u001b[39mPOSTGRES_USER,password\u001b[38;5;241m=\u001b[39mPOSTGRES_PASSWORD)\n\u001b[0;32m      2\u001b[0m cur \u001b[38;5;241m=\u001b[39m conn\u001b[38;5;241m.\u001b[39mcursor()\n\u001b[0;32m      3\u001b[0m cur\u001b[38;5;241m.\u001b[39mexecute(\u001b[38;5;124m\"\u001b[39m\u001b[38;5;124mCREATE TABLE phonebook (user_id serial PRIMARY KEY,firstname VARCHAR(255) NOT NULL, lastname VARCHAR(255) NOT NULL, phone_number VARCHAR (255) NOT NULL, age INT);\u001b[39m\u001b[38;5;124m\"\u001b[39m)\n",
      "File \u001b[1;32mc:\\users\\bulig\\pycharmprojects\\pythonproject\\venv\\lib\\site-packages\\psycopg2\\__init__.py:122\u001b[0m, in \u001b[0;36mconnect\u001b[1;34m(dsn, connection_factory, cursor_factory, **kwargs)\u001b[0m\n\u001b[0;32m    119\u001b[0m     kwasync[\u001b[38;5;124m'\u001b[39m\u001b[38;5;124masync_\u001b[39m\u001b[38;5;124m'\u001b[39m] \u001b[38;5;241m=\u001b[39m kwargs\u001b[38;5;241m.\u001b[39mpop(\u001b[38;5;124m'\u001b[39m\u001b[38;5;124masync_\u001b[39m\u001b[38;5;124m'\u001b[39m)\n\u001b[0;32m    121\u001b[0m dsn \u001b[38;5;241m=\u001b[39m _ext\u001b[38;5;241m.\u001b[39mmake_dsn(dsn, \u001b[38;5;241m*\u001b[39m\u001b[38;5;241m*\u001b[39mkwargs)\n\u001b[1;32m--> 122\u001b[0m conn \u001b[38;5;241m=\u001b[39m _connect(dsn, connection_factory\u001b[38;5;241m=\u001b[39mconnection_factory, \u001b[38;5;241m*\u001b[39m\u001b[38;5;241m*\u001b[39mkwasync)\n\u001b[0;32m    123\u001b[0m \u001b[38;5;28;01mif\u001b[39;00m cursor_factory \u001b[38;5;129;01mis\u001b[39;00m \u001b[38;5;129;01mnot\u001b[39;00m \u001b[38;5;28;01mNone\u001b[39;00m:\n\u001b[0;32m    124\u001b[0m     conn\u001b[38;5;241m.\u001b[39mcursor_factory \u001b[38;5;241m=\u001b[39m cursor_factory\n",
      "\u001b[1;31mOperationalError\u001b[0m: connection to server at \"0.0.0.0\", port 5432 failed: Cannot assign requested address (0x00002741/10049)\n\tIs the server running on that host and accepting TCP/IP connections?\n"
     ]
    }
   ],
   "source": [
    "conn = psycopg2.connect(host=HOST_DB,port=5432,database=POSTGRES_DB,user=POSTGRES_USER,password=POSTGRES_PASSWORD)\n",
    "cur = conn.cursor()\n",
    "cur.execute(\"CREATE TABLE phonebook (user_id serial PRIMARY KEY,firstname VARCHAR(255) NOT NULL, lastname VARCHAR(255) NOT NULL, phone_number VARCHAR (255) NOT NULL, age INT);\")\n",
    "conn.commit()\n",
    "conn.close()\n",
    "cur.close()"
   ]
  },
  {
   "cell_type": "code",
   "execution_count": null,
   "id": "273b057e",
   "metadata": {},
   "outputs": [],
   "source": []
  }
 ],
 "metadata": {
  "kernelspec": {
   "display_name": "Python 3 (ipykernel)",
   "language": "python",
   "name": "python3"
  },
  "language_info": {
   "codemirror_mode": {
    "name": "ipython",
    "version": 3
   },
   "file_extension": ".py",
   "mimetype": "text/x-python",
   "name": "python",
   "nbconvert_exporter": "python",
   "pygments_lexer": "ipython3",
   "version": "3.9.5"
  }
 },
 "nbformat": 4,
 "nbformat_minor": 5
}
